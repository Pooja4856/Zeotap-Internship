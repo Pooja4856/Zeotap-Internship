{
 "cells": [
  {
   "cell_type": "code",
   "execution_count": 2,
   "id": "1b169900",
   "metadata": {},
   "outputs": [
    {
     "name": "stdout",
     "output_type": "stream",
     "text": [
      "Lookalike recommendations have been successfully saved to CSV.\n"
     ]
    }
   ],
   "source": [
    "import pandas as pd\n",
    "from sklearn.preprocessing import OneHotEncoder\n",
    "from sklearn.metrics.pairwise import cosine_similarity\n",
    "import numpy as np\n",
    "import csv\n",
    "\n",
    "customers = pd.read_csv('Customers.csv')\n",
    "products = pd.read_csv('Products.csv')\n",
    "transactions = pd.read_csv('Transactions.csv')\n",
    "\n",
    "merged_df = transactions.merge(customers, on='CustomerID').merge(products, on='ProductID')\n",
    "\n",
    "merged_df.fillna({\n",
    "    'TotalValue': merged_df['TotalValue'].median(), \n",
    "    'Quantity': merged_df['Quantity'].median(),  \n",
    "    'Category': 'Unknown'  '\n",
    "}, inplace=True)\n",
    "\n",
    "customer_profiles = merged_df.groupby('CustomerID').agg({\n",
    "    'TotalValue': 'sum',    \n",
    "    'Quantity': 'sum',      \n",
    "    'Category': lambda x: x.mode().iloc[0] if not x.mode().empty else 'Unknown'  \n",
    "})\n",
    "\n",
    "encoder = OneHotEncoder(drop='first', sparse_output=False)\n",
    "encoded_category = encoder.fit_transform(customer_profiles[['Category']])\n",
    "\n",
    "encoded_df = pd.DataFrame(encoded_category, columns=encoder.get_feature_names_out(['Category']))\n",
    "customer_profiles_encoded = pd.concat([customer_profiles.drop(columns=['Category']), encoded_df], axis=1)\n",
    "\n",
    "customer_profiles_encoded.fillna(0, inplace=True)\n",
    "\n",
    "similarity_matrix = cosine_similarity(customer_profiles_encoded)\n",
    "\n",
    "def get_top_3_similar(customer_id, similarity_matrix, customer_ids):\n",
    "    idx = np.where(customer_ids == customer_id)[0][0]\n",
    "    similar_indices = np.argsort(similarity_matrix[idx])[-4:-1]  # Get top 3 (excluding self)\n",
    "    return [(customer_ids[i], similarity_matrix[idx][i]) for i in similar_indices]\n",
    "\n",
    "\n",
    "customer_ids = customer_profiles.index.values\n",
    "\n",
    "\n",
    "lookalike_dict = {cust: get_top_3_similar(cust, similarity_matrix, customer_ids) for cust in customer_ids[:20]}\n",
    "\n",
    "\n",
    "with open('FirstName_LastName_Lookalike.csv', 'w', newline='') as f:\n",
    "    writer = csv.writer(f)\n",
    "    writer.writerow(['CustomerID', 'Lookalikes'])\n",
    "    for cust_id, lookalikes in lookalike_dict.items():\n",
    "        writer.writerow([cust_id, lookalikes])\n",
    "\n",
    "print(\"Lookalike recommendations have been successfully saved to CSV.\")\n"
   ]
  },
  {
   "cell_type": "code",
   "execution_count": null,
   "id": "87ae3f7c",
   "metadata": {},
   "outputs": [],
   "source": []
  }
 ],
 "metadata": {
  "kernelspec": {
   "display_name": "Python 3 (ipykernel)",
   "language": "python",
   "name": "python3"
  },
  "language_info": {
   "codemirror_mode": {
    "name": "ipython",
    "version": 3
   },
   "file_extension": ".py",
   "mimetype": "text/x-python",
   "name": "python",
   "nbconvert_exporter": "python",
   "pygments_lexer": "ipython3",
   "version": "3.11.5"
  }
 },
 "nbformat": 4,
 "nbformat_minor": 5
}
